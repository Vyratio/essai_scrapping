{
 "cells": [
  {
   "attachments": {},
   "cell_type": "markdown",
   "metadata": {},
   "source": [
    "Avant de commencer , on va mettre dans"
   ]
  },
  {
   "cell_type": "code",
   "execution_count": 1,
   "metadata": {},
   "outputs": [],
   "source": [
    "from statistics import mean\n",
    "import pymongo\n",
    "from pymongo import MongoClient\n",
    "cluster = \"mongodb://localhost:27017/\"\n",
    "client = MongoClient(cluster)"
   ]
  },
  {
   "cell_type": "code",
   "execution_count": 2,
   "metadata": {},
   "outputs": [
    {
     "name": "stdout",
     "output_type": "stream",
     "text": [
      "<bound method MongoClient.list_database_names of MongoClient(host=['localhost:27017'], document_class=dict, tz_aware=False, connect=True)>\n"
     ]
    }
   ],
   "source": [
    "print(client.list_database_names)\n"
   ]
  },
  {
   "cell_type": "code",
   "execution_count": 3,
   "metadata": {},
   "outputs": [
    {
     "data": {
      "text/plain": [
       "Collection(Database(MongoClient(host=['localhost:27017'], document_class=dict, tz_aware=False, connect=True), 'test_pymongo'), 'test_film')"
      ]
     },
     "execution_count": 3,
     "metadata": {},
     "output_type": "execute_result"
    }
   ],
   "source": [
    "db = client.test_pymongo.test_film\n",
    "db"
   ]
  },
  {
   "attachments": {},
   "cell_type": "markdown",
   "metadata": {},
   "source": [
    "Question n°1\n",
    "Quelle est le film le plus long ?"
   ]
  },
  {
   "attachments": {},
   "cell_type": "markdown",
   "metadata": {},
   "source": [
    "Je recupere la base de données où il y a toute les données que 'on a recuperer via scrapping "
   ]
  },
  {
   "cell_type": "code",
   "execution_count": null,
   "metadata": {},
   "outputs": [],
   "source": []
  },
  {
   "cell_type": "code",
   "execution_count": 4,
   "metadata": {},
   "outputs": [],
   "source": [
    "db_scrapping = client.Top_250_film.Donnee_film"
   ]
  },
  {
   "cell_type": "code",
   "execution_count": 5,
   "metadata": {},
   "outputs": [
    {
     "data": {
      "text/plain": [
       "{'The Shawshank Redemption': '142',\n",
       " 'Cinema Paradiso': '155',\n",
       " 'The Intouchables': '112',\n",
       " 'Alien': '117',\n",
       " 'Rear Window': '112',\n",
       " 'Once Upon a Time in the West': '165',\n",
       " 'Grave of the Fireflies': '89',\n",
       " 'Modern Times': '87',\n",
       " 'Whiplash': '106',\n",
       " 'Casablanca': '102',\n",
       " 'The Prestige': '130',\n",
       " 'The Usual Suspects': '106',\n",
       " 'The Departed': '151',\n",
       " 'Gladiator': '155',\n",
       " 'American History X': '119',\n",
       " 'Gandhi': '191',\n",
       " 'The Help': '146',\n",
       " 'The Iron Giant': '86',\n",
       " 'Aladdin': '90',\n",
       " 'The Sound of Music': '172',\n",
       " 'Life of Brian': '94',\n",
       " 'Everything Everywhere All at Once': '139',\n",
       " 'Dersu Uzala': '142',\n",
       " 'Persona': '83',\n",
       " 'It Happened One Night': '105',\n",
       " 'The Handmaiden': '145',\n",
       " 'Cool Hand Luke': '127',\n",
       " 'The 400 Blows': '99',\n",
       " 'My Father and My Son': '112',\n",
       " 'Amores Perros': '154',\n",
       " 'Rebecca': '130',\n",
       " 'The Grapes of Wrath': '129',\n",
       " 'La haine': '98',\n",
       " 'Pirates of the Caribbean: The Curse of the Black Pearl': '143',\n",
       " 'Jai Bhim': '164',\n",
       " \"Hachi: A Dog's Tale\": '93',\n",
       " 'To Be or Not to Be': '99',\n",
       " 'The Battle of Algiers': '121',\n",
       " 'The Incredibles': '115',\n",
       " 'The Best Years of Our Lives': '170',\n",
       " 'Harakiri': '133',\n",
       " 'The Exorcist': '122',\n",
       " 'Groundhog Day': '101',\n",
       " 'Before Sunset': '80',\n",
       " 'Into the Wild': '148',\n",
       " 'The Wizard of Oz': '102',\n",
       " 'Network': '121',\n",
       " 'Pather Panchali': '125',\n",
       " 'Logan': '137',\n",
       " 'Rush': '123',\n",
       " 'Spotlight': '129',\n",
       " 'Stand by Me': '89',\n",
       " 'The Terminator': '107',\n",
       " 'Platoon': '120',\n",
       " 'Ratatouille': '111',\n",
       " 'Ford v Ferrari': '152',\n",
       " 'Rocky': '120',\n",
       " 'Tokyo Story': '136',\n",
       " 'Hotel Rwanda': '121',\n",
       " 'Dead Poets Society': '128',\n",
       " 'The Passion of Joan of Arc': '114',\n",
       " 'Jaws': '124',\n",
       " 'The Big Lebowski': '117',\n",
       " 'Mary and Max': '92',\n",
       " 'How to Train Your Dragon': '98',\n",
       " 'Monsters, Inc.': '92',\n",
       " 'Mad Max: Fury Road': '120',\n",
       " 'Room': '118',\n",
       " 'Memories of Murder': '132',\n",
       " 'The Seventh Seal': '96',\n",
       " 'Wild Tales': '122',\n",
       " 'Mr. Smith Goes to Washington': '129',\n",
       " 'Sherlock Jr.': '0',\n",
       " 'Hacksaw Ridge': '139',\n",
       " 'Barry Lyndon': '185',\n",
       " 'Klaus': '96',\n",
       " 'In the Name of the Father': '133',\n",
       " 'The Deer Hunter': '183',\n",
       " 'The Wages of Fear': '131',\n",
       " 'The Grand Budapest Hotel': '99',\n",
       " 'The General': '67',\n",
       " 'The Third Man': '93',\n",
       " 'Ben-Hur': '212',\n",
       " 'Gone Girl': '149',\n",
       " 'Harry Potter and the Deathly Hallows: Part 2': '130',\n",
       " 'Wild Strawberries': '91',\n",
       " '12 Years a Slave': '134',\n",
       " 'Before Sunrise': '101',\n",
       " 'On the Waterfront': '108',\n",
       " 'Blade Runner': '117',\n",
       " 'The Gold Rush': '95',\n",
       " 'Children of Heaven': '89',\n",
       " 'Million Dollar Baby': '132',\n",
       " 'My Neighbor Totoro': '86',\n",
       " 'Catch Me If You Can': '141',\n",
       " 'Gran Torino': '116',\n",
       " 'Three Billboards Outside Ebbing, Missouri': '115',\n",
       " 'Prisoners': '153',\n",
       " 'Fargo': '98',\n",
       " 'Warrior': '140',\n",
       " 'Trainspotting': '93',\n",
       " 'The Bridge on the River Kwai': '161',\n",
       " \"Howl's Moving Castle\": '119',\n",
       " 'The Secret in Their Eyes': '129',\n",
       " 'Inside Out': '95',\n",
       " 'V for Vendetta': '132',\n",
       " 'Dial M for Murder': '105',\n",
       " 'Raging Bull': '129',\n",
       " 'Lock, Stock and Two Smoking Barrels': '107',\n",
       " 'Gone with the Wind': '238',\n",
       " 'The Elephant Man': '124',\n",
       " 'No Country for Old Men': '122',\n",
       " 'The Thing': '109',\n",
       " 'Chinatown': '130',\n",
       " 'The Great Escape': '172',\n",
       " 'Rashomon': '88',\n",
       " 'Finding Nemo': '100',\n",
       " 'Jurassic Park': '127',\n",
       " 'Monty Python and the Holy Grail': '91',\n",
       " 'Kill Bill: Vol. 1': '111',\n",
       " 'The Treasure of the Sierra Madre': '126',\n",
       " 'Spider-Man: No Way Home': '148',\n",
       " 'A Beautiful Mind': '135',\n",
       " 'The Truman Show': '103',\n",
       " 'The Sixth Sense': '107',\n",
       " 'Yojimbo': '110',\n",
       " 'Unforgiven': '130',\n",
       " 'There Will Be Blood': '158',\n",
       " 'Shutter Island': '138',\n",
       " \"Pan's Labyrinth\": '118',\n",
       " 'Casino': '178',\n",
       " 'Judgment at Nuremberg': '179',\n",
       " 'The Wolf of Wall Street': '180',\n",
       " 'The Father': '97',\n",
       " 'Ran': '162',\n",
       " 'Green Book': '130',\n",
       " 'Some Like It Hot': '121',\n",
       " 'The Kid': '68',\n",
       " 'All About Eve': '138',\n",
       " 'Downfall': '156',\n",
       " 'For a Few Dollars More': '132',\n",
       " 'Batman Begins': '140',\n",
       " 'Dangal': '161',\n",
       " '1917': '119',\n",
       " 'Like Stars on Earth': '165',\n",
       " 'Indiana Jones and the Last Crusade': '127',\n",
       " 'Bicycle Thieves': '89',\n",
       " 'Snatch': '102',\n",
       " 'Die Hard': '132',\n",
       " 'L.A. Confidential': '138',\n",
       " 'Metropolis': '153',\n",
       " 'Taxi Driver': '114',\n",
       " 'Up': '96',\n",
       " 'Heat': '170',\n",
       " 'Incendies': '131',\n",
       " 'Scarface': '170',\n",
       " 'A Separation': '123',\n",
       " 'Hamilton': '160',\n",
       " 'The Sting': '129',\n",
       " 'Full Metal Jacket': '116',\n",
       " 'Double Indemnity': '107',\n",
       " 'To Kill a Mockingbird': '129',\n",
       " 'Ikiru': '143',\n",
       " 'Amélie': '122',\n",
       " 'The Apartment': '125',\n",
       " 'Vertigo': '128',\n",
       " 'A Clockwork Orange': '136',\n",
       " 'North by Northwest': '136',\n",
       " 'Lawrence of Arabia': '218',\n",
       " 'M': '99',\n",
       " 'Citizen Kane': '119',\n",
       " 'The Hunt': '115',\n",
       " 'Come and See': '142',\n",
       " 'Reservoir Dogs': '99',\n",
       " 'Eternal Sunshine of the Spotless Mind': '108',\n",
       " 'Star Wars: Episode VI - Return of the Jedi': '131',\n",
       " 'Capernaum': '126',\n",
       " 'High and Low': '143',\n",
       " 'Toy Story 3': '103',\n",
       " '2001: A Space Odyssey': '149',\n",
       " 'Requiem for a Dream': '102',\n",
       " \"Singin' in the Rain\": '103',\n",
       " '3 Idiots': '170',\n",
       " 'Your Name.': '106',\n",
       " 'Good Will Hunting': '126',\n",
       " 'Once Upon a Time in America': '229',\n",
       " 'Princess Mononoke': '134',\n",
       " 'Top Gun: Maverick': '130',\n",
       " 'Braveheart': '178',\n",
       " 'Avengers: Endgame': '181',\n",
       " 'Toy Story': '81',\n",
       " 'Coco': '105',\n",
       " 'Inglourious Basterds': '153',\n",
       " 'Oldboy': '120',\n",
       " 'Joker': '122',\n",
       " 'Amadeus': '160',\n",
       " 'Dr. Strangelove or: How I Learned to Stop Worrying and Love the Bomb': '95',\n",
       " 'American Beauty': '122',\n",
       " 'Spider-Man: Into the Spider-Verse': '117',\n",
       " 'Aliens': '137',\n",
       " 'Witness for the Prosecution': '116',\n",
       " 'The Great Dictator': '125',\n",
       " 'Paths of Glory': '88',\n",
       " 'The Dark Knight Rises': '164',\n",
       " 'Avengers: Infinity War': '149',\n",
       " 'The Shining': '146',\n",
       " 'Sunset Blvd.': '110',\n",
       " 'The Lives of Others': '137',\n",
       " 'Django Unchained': '165',\n",
       " 'WALL·E': '98',\n",
       " 'Memento': '113',\n",
       " 'Indiana Jones and the Raiders of the Lost Ark': '115',\n",
       " 'The Lion King': '88',\n",
       " 'Parasite': '132',\n",
       " 'The Pianist': '150',\n",
       " 'Apocalypse Now': '147',\n",
       " 'City Lights': '87',\n",
       " 'Léon: The Professional': '110',\n",
       " 'Back to the Future': '116',\n",
       " 'Spirited Away': '125',\n",
       " 'Psycho': '109',\n",
       " 'Terminator 2: Judgment Day': '137',\n",
       " 'Star Wars: Episode IV - A New Hope': '121',\n",
       " 'Interstellar': '169',\n",
       " 'The Green Mile': '189',\n",
       " 'City of God': '130',\n",
       " 'Life Is Beautiful': '116',\n",
       " 'Saving Private Ryan': '169',\n",
       " \"It's a Wonderful Life\": '130',\n",
       " 'The Silence of the Lambs': '118',\n",
       " 'Seven Samurai': '207',\n",
       " 'Se7en': '127',\n",
       " 'Star Wars: Episode V - The Empire Strikes Back': '124',\n",
       " 'Goodfellas': '145',\n",
       " \"One Flew Over the Cuckoo's Nest\": '133',\n",
       " 'The Matrix': '136',\n",
       " 'Inception': '148',\n",
       " 'The Lord of the Rings: The Two Towers': '179',\n",
       " 'Fight Club': '139',\n",
       " 'The Good, the Bad and the Ugly': '178',\n",
       " 'The Lord of the Rings: The Fellowship of the Ring': '178',\n",
       " 'Forrest Gump': '142',\n",
       " 'Pulp Fiction': '154',\n",
       " 'The Lord of the Rings: The Return of the King': '201',\n",
       " 'The Godfather Part II': '202',\n",
       " '12 Angry Men': '96',\n",
       " \"Schindler's List\": '195',\n",
       " 'The Dark Knight': '152',\n",
       " 'The Godfather': '175'}"
      ]
     },
     "execution_count": 5,
     "metadata": {},
     "output_type": "execute_result"
    }
   ],
   "source": [
    "db_question_1 = db_scrapping\n",
    "my_collection_reponse_question_1 ={}\n",
    "for i in db_question_1.find():\n",
    "    duree_sauvegarde=0 \n",
    "    duree = i[\"Duree\"].split(\",\")\n",
    "#    print(duree)\n",
    "    if len(duree)== 2:\n",
    "        if duree[1]==\"h\":\n",
    "            duree_sauvegarde=int(duree[0])*60\n",
    "        if duree[1]==\"min\":\n",
    "            duree_sauvegarde=int(duree[0])\n",
    "    else:\n",
    "        duree_sauvegarde=int(duree[0])*60+int(duree[3])    \n",
    "\n",
    "    my_collection_reponse_question_1[i[\"Nom du film\"]] = str(duree_sauvegarde)\n",
    "my_collection_reponse_question_1"
   ]
  },
  {
   "cell_type": "code",
   "execution_count": 6,
   "metadata": {},
   "outputs": [],
   "source": [
    "db2 = client.test_pymongo_reponse_3.test_film\n",
    "for i in my_collection_reponse_question_1.items():\n",
    "    db2.insert_one({i[0] : int(i[1])})\n",
    "#Je récupère une base de données "
   ]
  },
  {
   "cell_type": "code",
   "execution_count": 7,
   "metadata": {},
   "outputs": [
    {
     "data": {
      "text/plain": [
       "{'_id': ObjectId('63a0e1dfafe2c31b76ff433b'), 'The Shawshank Redemption': 142}"
      ]
     },
     "execution_count": 7,
     "metadata": {},
     "output_type": "execute_result"
    }
   ],
   "source": [
    "film_le_plus_long = db2.find().sort(\"Duree\",pymongo.DESCENDING).limit(1)\n",
    "film_le_plus_long[0]\n"
   ]
  },
  {
   "attachments": {},
   "cell_type": "markdown",
   "metadata": {},
   "source": [
    "Question n°2\n",
    "Quels sont les 5 films les mieux notés ?"
   ]
  },
  {
   "cell_type": "code",
   "execution_count": 8,
   "metadata": {},
   "outputs": [
    {
     "data": {
      "text/plain": [
       "Collection(Database(MongoClient(host=['localhost:27017'], document_class=dict, tz_aware=False, connect=True), 'Top_250_film'), 'Donnee_film')"
      ]
     },
     "execution_count": 8,
     "metadata": {},
     "output_type": "execute_result"
    }
   ],
   "source": [
    "db_question_2 = db_scrapping\n",
    "db_question_2"
   ]
  },
  {
   "cell_type": "code",
   "execution_count": 9,
   "metadata": {},
   "outputs": [],
   "source": [
    "collection_reponse_question_2 = {}\n",
    "for i in db_question_2.find():\n",
    "    my_collection_reponse_question_1[i[\"Nom du film\"]] = i[\"Score\"]"
   ]
  },
  {
   "cell_type": "code",
   "execution_count": 10,
   "metadata": {},
   "outputs": [],
   "source": [
    "db_insert = client.test_pymongo_reponse_3.reponse_2\n",
    "for i in my_collection_reponse_question_1.items():\n",
    "    db_insert.insert_one({i[0] : i[1]})\n",
    "#Je récupère une base de données "
   ]
  },
  {
   "cell_type": "code",
   "execution_count": 11,
   "metadata": {},
   "outputs": [
    {
     "data": {
      "text/plain": [
       "<pymongo.cursor.Cursor at 0x7fe48a2bb910>"
      ]
     },
     "execution_count": 11,
     "metadata": {},
     "output_type": "execute_result"
    }
   ],
   "source": [
    "db_insert.find().sort(\"Score\",pymongo.DESCENDING).limit(5)\n"
   ]
  },
  {
   "cell_type": "code",
   "execution_count": 12,
   "metadata": {},
   "outputs": [
    {
     "name": "stdout",
     "output_type": "stream",
     "text": [
      "{'_id': ObjectId('63a3682716932833961f42a5'), 'The Shawshank Redemption': '9.3'}\n",
      "{'_id': ObjectId('63a3682716932833961f42a6'), 'Cinema Paradiso': '8.5'}\n",
      "{'_id': ObjectId('63a3682716932833961f42a7'), 'The Intouchables': '8.5'}\n",
      "{'_id': ObjectId('63a3682716932833961f42a7'), 'The Intouchables': '8.5'}\n",
      "{'_id': ObjectId('63a3682716932833961f42a7'), 'The Intouchables': '8.5'}\n"
     ]
    }
   ],
   "source": [
    "for i in range(0,5):\n",
    "    print(db_insert.find().sort(\"Score\",pymongo.DESCENDING).limit(5)[i])"
   ]
  },
  {
   "attachments": {},
   "cell_type": "markdown",
   "metadata": {},
   "source": [
    "Question n°3\n",
    "Dans combien de films a joué Morgan Freeman ? Tom Cruise ?"
   ]
  },
  {
   "cell_type": "code",
   "execution_count": 13,
   "metadata": {},
   "outputs": [],
   "source": [
    "doc_reponse = client.test_pymongo.test_film"
   ]
  },
  {
   "cell_type": "code",
   "execution_count": 14,
   "metadata": {},
   "outputs": [
    {
     "name": "stdout",
     "output_type": "stream",
     "text": [
      "1\n",
      "7\n"
     ]
    }
   ],
   "source": [
    "db_question_3 = db_scrapping\n",
    "db_question_3\n",
    "compteur_morgan_freeman = 0\n",
    "compteur_tom_cruise = 0\n",
    "\n",
    "for i in db_question_3.find():\n",
    "    liste_acteur=i[\"Acteur\"].split(\",\")\n",
    "#    print(liste_acteur)\n",
    "    for j in liste_acteur:\n",
    "        if j== \"Morgan Freeman\":\n",
    "\n",
    "            compteur_morgan_freeman = compteur_morgan_freeman + 1\n",
    "        if j== \"Tom Cruise\":\n",
    "            compteur_tom_cruise = compteur_tom_cruise +1\n",
    "\n",
    "\n",
    "print(compteur_tom_cruise)\n",
    "print(compteur_morgan_freeman)\n"
   ]
  },
  {
   "attachments": {},
   "cell_type": "markdown",
   "metadata": {},
   "source": [
    "Question n°4 \n",
    "Quels sont les 3 meilleurs films d’horreur ? Dramatique ? Comique ?"
   ]
  },
  {
   "cell_type": "code",
   "execution_count": 15,
   "metadata": {},
   "outputs": [
    {
     "name": "stdout",
     "output_type": "stream",
     "text": [
      "{'_id': ObjectId('63a4cdc170358f3d7d2d0a7b'), 'The Intouchables': '8.5'}\n",
      "{'_id': ObjectId('63a4cdc170358f3d7d2d0a7c'), 'Modern Times': '8.5'}\n",
      "{'_id': ObjectId('63a4cdc170358f3d7d2d0a7d'), 'Aladdin': '8.0'}\n",
      "{'_id': ObjectId('63a4cdc170358f3d7d2d0aa9'), 'Alien': '8.5'}\n",
      "{'_id': ObjectId('63a4cdc170358f3d7d2d0aaa'), 'The Exorcist': '8.1'}\n",
      "{'_id': ObjectId('63a4cdc170358f3d7d2d0aab'), 'The Thing': '8.2'}\n",
      "{'_id': ObjectId('63a4cdc170358f3d7d2d0aae'), 'The Shawshank Redemption': '9.3'}\n",
      "{'_id': ObjectId('63a4cdc170358f3d7d2d0aaf'), 'Cinema Paradiso': '8.5'}\n",
      "{'_id': ObjectId('63a4cdc170358f3d7d2d0ab0'), 'The Intouchables': '8.5'}\n"
     ]
    }
   ],
   "source": [
    "db_question_4 = db_scrapping\n",
    "db_insert_question_4_comedy = client.test_pymongo_reponse_3.reponse_4_comedy\n",
    "db_insert_question_4_horror = client.test_pymongo_reponse_3.reponse_4_horror\n",
    "db_insert_question_4_drama = client.test_pymongo_reponse_3.reponse_4_drama\n",
    "\n",
    "my_collection_reponse_question_4_horror ={}\n",
    "my_collection_reponse_question_4_drama ={}\n",
    "my_collection_reponse_question_4_comedy ={}\n",
    "for i in db_question_4.find():\n",
    "    liste_genre=i[\"Genre\"].split(\",\")\n",
    "    for j in liste_genre:\n",
    "        if j == \"Horror\":\n",
    "            my_collection_reponse_question_4_horror[i[\"Nom du film\"]] = i[\"Score\"] \n",
    "        if j == \"Drama\":\n",
    "            my_collection_reponse_question_4_drama[i[\"Nom du film\"]] = i[\"Score\"]  \n",
    "        if j==\"Comedy\":\n",
    "            my_collection_reponse_question_4_comedy[i[\"Nom du film\"]] = i[\"Score\"] \n",
    "\n",
    "for i in my_collection_reponse_question_4_comedy.items():\n",
    "    db_insert_question_4_comedy.insert_one({i[0] : i[1]})\n",
    "\n",
    "for i in my_collection_reponse_question_4_horror.items():\n",
    "    db_insert_question_4_horror.insert_one({i[0] : i[1]})\n",
    "\n",
    "for i in my_collection_reponse_question_4_drama.items():\n",
    "    db_insert_question_4_drama.insert_one({i[0] : i[1]})\n",
    "\n",
    "for i in range(0,3):\n",
    "    print(db_insert_question_4_comedy.find().sort(\"Score\",pymongo.DESCENDING).limit(3)[i])\n",
    "\n",
    "for i in range(0,3):\n",
    "    print(db_insert_question_4_horror.find().sort(\"Score\",pymongo.DESCENDING).limit(3)[i])\n",
    "\n",
    "for i in range(0,3):\n",
    "    print(db_insert_question_4_drama.find().sort(\"Score\",pymongo.DESCENDING).limit(3)[i])"
   ]
  },
  {
   "attachments": {},
   "cell_type": "markdown",
   "metadata": {},
   "source": [
    "Question n°5\n",
    "Parmi les 100 films les mieux notés, quel pourcentage sont américains ? Français ?"
   ]
  },
  {
   "cell_type": "code",
   "execution_count": 16,
   "metadata": {},
   "outputs": [
    {
     "name": "stdout",
     "output_type": "stream",
     "text": [
      "68\n",
      "2\n"
     ]
    }
   ],
   "source": [
    "db_question_5 = db_scrapping\n",
    "\n",
    "compteur_americain =0\n",
    "compteur_francais =0\n",
    "for i in range(0,100):\n",
    "    if db_question_5.find().sort(\"Score\",pymongo.DESCENDING).limit(100)[i][\"Pays\"]==\"United States\":\n",
    "        compteur_americain =compteur_americain + 1\n",
    "    if db_question_5.find().sort(\"Score\",pymongo.DESCENDING).limit(100)[i][\"Pays\"]== \"France\":\n",
    "        compteur_francais = compteur_francais + 1\n",
    "\n",
    "print(compteur_americain)\n",
    "print(compteur_francais)\n",
    "\n"
   ]
  },
  {
   "attachments": {},
   "cell_type": "markdown",
   "metadata": {},
   "source": [
    "Question n°6\n",
    "Quel est la durée moyenne d’un film en fonction du genre ?"
   ]
  },
  {
   "cell_type": "code",
   "execution_count": 17,
   "metadata": {},
   "outputs": [],
   "source": [
    "def moyenne(liste): \n",
    "  somme = 0\n",
    "  for i in liste: \n",
    "    somme += i \n",
    "  return somme / len(liste) \n"
   ]
  },
  {
   "cell_type": "code",
   "execution_count": 18,
   "metadata": {},
   "outputs": [
    {
     "data": {
      "text/plain": [
       "{'Musical': 103.0,\n",
       " 'Drama': 175.0,\n",
       " 'Western': 178.0,\n",
       " 'Horror': 109.0,\n",
       " 'Biography': 195.0,\n",
       " 'Romance': 142.0,\n",
       " 'Sci-Fi': 148.0,\n",
       " 'Animation': 125.0,\n",
       " 'Family': 130.0,\n",
       " 'Thriller': 118.0,\n",
       " 'War': 169.0,\n",
       " 'History': 195.0,\n",
       " 'Fantasy': 124.0,\n",
       " 'Crime': 175.0,\n",
       " 'Adventure': 201.0,\n",
       " 'Back to top': 175.0,\n",
       " 'Sport': 129.0,\n",
       " 'Film-Noir': 110.0,\n",
       " 'Action': 152.0,\n",
       " 'Mystery': 127.0,\n",
       " 'Comedy': 116.0,\n",
       " 'Music': 150.0}"
      ]
     },
     "execution_count": 18,
     "metadata": {},
     "output_type": "execute_result"
    }
   ],
   "source": [
    "db_question_6 = db_scrapping\n",
    "liste_genre_total = []\n",
    "for i in db_question_6.find():\n",
    "    for j in i[\"Genre\"].split(\",\"):\n",
    "        liste_genre_total.append(j)\n",
    "\n",
    "liste_genre_unique=[]\n",
    "liste_genre_unique =set(liste_genre_total)\n",
    "liste_genre_film =[]\n",
    "my_collection_reponse_question_6 ={}\n",
    "for i in db_question_6.find():\n",
    "    duree_sauvegarde=0 \n",
    "    duree = i[\"Duree\"].split(\",\")\n",
    "#    print(duree)\n",
    "    if len(duree)== 2:\n",
    "        if duree[1]==\"h\":\n",
    "            duree_sauvegarde=int(duree[0])*60\n",
    "        if duree[1]==\"min\":\n",
    "            duree_sauvegarde=int(duree[0])\n",
    "    else:\n",
    "        duree_sauvegarde=int(duree[0])*60+int(duree[3])    \n",
    "\n",
    "    liste_genre_film = i[\"Genre\"].split(\",\")\n",
    "    for j in i[\"Genre\"].split(\",\"):\n",
    "        my_collection_reponse_question_6[j]=int(duree_sauvegarde)\n",
    "\n",
    "collection_des_moyennes={}\n",
    "somme_duree =0\n",
    "nombre_film=0\n",
    "moyenne = 0\n",
    "for i in liste_genre_unique:\n",
    "    for key, value in my_collection_reponse_question_6.items():\n",
    "        if key==i:\n",
    "            somme_duree = somme_duree +value\n",
    "            nombre_film = nombre_film +1\n",
    "    moyenne=somme_duree/nombre_film\n",
    "    collection_des_moyennes[i]=moyenne\n",
    "    somme_duree =0\n",
    "    nombre_film=0\n",
    "    moyenne = 0\n",
    "collection_des_moyennes\n"
   ]
  }
 ],
 "metadata": {
  "kernelspec": {
   "display_name": "scrapping",
   "language": "python",
   "name": "python3"
  },
  "language_info": {
   "codemirror_mode": {
    "name": "ipython",
    "version": 3
   },
   "file_extension": ".py",
   "mimetype": "text/x-python",
   "name": "python",
   "nbconvert_exporter": "python",
   "pygments_lexer": "ipython3",
   "version": "3.10.8"
  },
  "orig_nbformat": 4,
  "vscode": {
   "interpreter": {
    "hash": "d5f872d15e7a8062729685936673f38d8ef22ff82e87f94226943b1bf0043951"
   }
  }
 },
 "nbformat": 4,
 "nbformat_minor": 2
}
